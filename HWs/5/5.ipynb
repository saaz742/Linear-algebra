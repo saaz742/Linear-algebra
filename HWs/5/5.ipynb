{
  "cells": [
    {
      "cell_type": "code",
      "execution_count": 63,
      "metadata": {
        "id": "lqU6kQKypNOv"
      },
      "outputs": [],
      "source": [
        "# student no:98170668\n",
        "# Name:sara azarnoush\n",
        "\n",
        "#please name your file as\n",
        "# HW5_StudentNo_StudentName.ipynb\n",
        "\n",
        "import numpy as np\n",
        "import scipy as sp\n",
        "import scipy.linalg as linalg\n",
        "\n",
        "#do not add any other imports here"
      ]
    },
    {
      "cell_type": "code",
      "execution_count": 64,
      "metadata": {
        "id": "Snu6XDY6prT9"
      },
      "outputs": [],
      "source": [
        "matrix1 = np.array([[1,3,5],[0,3,9],[10,4,9]])"
      ]
    },
    {
      "cell_type": "markdown",
      "metadata": {
        "id": "BgbfVUfPr1yD"
      },
      "source": [
        "## QR Decomposition\n",
        "Decompose the matrix using QR decomposition and reconstruct it afterwards (using python libraries)"
      ]
    },
    {
      "cell_type": "code",
      "execution_count": 65,
      "metadata": {
        "id": "6YQARjeur6WH",
        "colab": {
          "base_uri": "https://localhost:8080/"
        },
        "outputId": "b78e6eea-6505-443b-f36f-8e4f61c42fa6"
      },
      "outputs": [
        {
          "output_type": "stream",
          "name": "stdout",
          "text": [
            "[[ 1.  3.  5.]\n",
            " [ 0.  3.  9.]\n",
            " [10.  4.  9.]]\n"
          ]
        }
      ],
      "source": [
        "Q, R = np.linalg.qr(matrix1)\n",
        "reconstructed1 = np.matmul(Q, R)\n",
        "print(reconstructed1)"
      ]
    },
    {
      "cell_type": "markdown",
      "metadata": {
        "id": "MFptbHbj8BU3"
      },
      "source": [
        "## Classical Gram-Schmidt for QR decomposition\n",
        "\n",
        "Implement classical Gram Schmidt for QR decomposition ( you can not directly call python functions for QR decomposition )"
      ]
    },
    {
      "cell_type": "code",
      "execution_count": 66,
      "metadata": {
        "id": "FnH2sbkp8I5D"
      },
      "outputs": [],
      "source": [
        "def cgs(A):\n",
        "    m = A.shape[0]\n",
        "    n = A.shape[1]\n",
        "    Q = np.zeros([m, m])\n",
        "    R = np.zeros([m, n])\n",
        "    AC1 = A[:, 0]\n",
        "    R[0, 0] = np.linalg.norm(AC1)\n",
        "    R0 = R[0, 0]\n",
        "    if R0 != 0:\n",
        "        Q[:, 0] = AC1/R0\n",
        "    for i in range(n-1):\n",
        "        Q[:, i+1] = A[:, i+1]\n",
        "        for j in range(i+1):\n",
        "            R[j, i+1] = np.dot(Q[:, j].T, Q[:, i+1])\n",
        "            Q[:, i+1] -= R[j, i+1]*Q[:, j]\n",
        "        R[i+1, i+1] = np.linalg.norm(Q[:, i+1])\n",
        "        if R[i+1, i+1] != 0:\n",
        "            Q[:, i+1] /= R[i+1, i+1]\n",
        "    return Q, R\n"
      ]
    },
    {
      "cell_type": "code",
      "execution_count": 67,
      "metadata": {
        "id": "d7VBLcCs8OGq",
        "colab": {
          "base_uri": "https://localhost:8080/"
        },
        "outputId": "54dece55-bc21-4181-fc98-f0f47df3f673"
      },
      "outputs": [
        {
          "output_type": "execute_result",
          "data": {
            "text/plain": [
              "True"
            ]
          },
          "metadata": {},
          "execution_count": 67
        }
      ],
      "source": [
        "Q,R = cgs(matrix1)\n",
        "reconstructed2 = np.matmul(Q, R)\n",
        "np.allclose(reconstructed1,reconstructed2)"
      ]
    },
    {
      "cell_type": "markdown",
      "metadata": {
        "id": "85eiW25-q9UB"
      },
      "source": [
        "## LU Decomposition\n",
        "\n",
        "Decompose the matrix using LU decomposition and reconstruct it afterwards (using python libraries)"
      ]
    },
    {
      "cell_type": "code",
      "execution_count": 68,
      "metadata": {
        "id": "KqY12eicq2Dt",
        "colab": {
          "base_uri": "https://localhost:8080/"
        },
        "outputId": "896376aa-8819-4766-c1a6-3e086de1be65"
      },
      "outputs": [
        {
          "output_type": "stream",
          "name": "stdout",
          "text": [
            "[[ 1.  3.  5.]\n",
            " [ 0.  3.  9.]\n",
            " [10.  4.  9.]]\n"
          ]
        }
      ],
      "source": [
        "P,L,U = sp.linalg.lu(matrix1)\n",
        "reconstructed = np.matmul(P, np.matmul(L, U))\n",
        "print(reconstructed)"
      ]
    },
    {
      "cell_type": "markdown",
      "metadata": {
        "id": "9Zk8nFXY6Tgs"
      },
      "source": [
        "## Eigen Decomposition\n",
        "\n",
        "Use python libraries to get eigen values and eigen vectors"
      ]
    },
    {
      "cell_type": "code",
      "execution_count": 69,
      "metadata": {
        "id": "rFF7U7Yv6HDX",
        "colab": {
          "base_uri": "https://localhost:8080/"
        },
        "outputId": "9d841cfc-c906-40fb-833c-ad387391ba3e"
      },
      "outputs": [
        {
          "output_type": "stream",
          "name": "stdout",
          "text": [
            "[16.30098987+0.j         -1.65049493+2.02120481j -1.65049493-2.02120481j]\n",
            "[[ 0.35564109+0.j          0.0872543 -0.28570889j  0.0872543 +0.28570889j]\n",
            " [ 0.52376849+0.j          0.83145052+0.j          0.83145052-0.j        ]\n",
            " [ 0.77407104+0.j         -0.42962849+0.18672575j -0.42962849-0.18672575j]]\n"
          ]
        }
      ],
      "source": [
        "values, vectors = np.linalg.eig(matrix1)\n",
        "print(values)\n",
        "print(vectors)"
      ]
    },
    {
      "cell_type": "markdown",
      "metadata": {
        "id": "j2tdq8cy6ngE"
      },
      "source": [
        "Now reconstruct the matrix using values which you dervied before"
      ]
    },
    {
      "cell_type": "code",
      "execution_count": 70,
      "metadata": {
        "id": "ENoDKkpy6pzd",
        "colab": {
          "base_uri": "https://localhost:8080/"
        },
        "outputId": "fbef43e6-c59f-4d22-82e5-8bbebb0c1a83"
      },
      "outputs": [
        {
          "output_type": "stream",
          "name": "stdout",
          "text": [
            "[[ 1.+0.j  3.-0.j  5.-0.j]\n",
            " [-0.+0.j  3.+0.j  9.-0.j]\n",
            " [10.+0.j  4.+0.j  9.-0.j]]\n"
          ]
        }
      ],
      "source": [
        "# factorize\n",
        "values, vectors = np.linalg.eig(matrix1)\n",
        "# create matrix from eigenvectors\n",
        "Q = vectors\n",
        "# create inverse of eigenvectors matrix\n",
        "R = np.linalg.inv(vectors)\n",
        "# create diagonal matrix from eigenvalues\n",
        "L = np.diag(values)\n",
        "# reconstruct the original matrix\n",
        "B = np.matmul(Q, np.matmul(L, R))\n",
        "print(np.round(B))"
      ]
    },
    {
      "cell_type": "markdown",
      "metadata": {
        "id": "duMo8c-md5wy"
      },
      "source": [
        "Now, Can you get the matrix inverse via eigenvector and eigenvalues?\n"
      ]
    },
    {
      "cell_type": "code",
      "execution_count": 71,
      "metadata": {
        "id": "_YhFSLBKeG15",
        "colab": {
          "base_uri": "https://localhost:8080/"
        },
        "outputId": "ce3f4c53-fdef-4878-c4f8-612bdeeb9657"
      },
      "outputs": [
        {
          "output_type": "execute_result",
          "data": {
            "text/plain": [
              "True"
            ]
          },
          "metadata": {},
          "execution_count": 71
        }
      ],
      "source": [
        "matrix_inverse_using_scipy = sp.linalg.inv(matrix1)\n",
        "matrix_inverse_using_eigen_decomposition = np.matmul(Q, np.matmul(np.diag(1 / values), R))\n",
        "\n",
        "np.allclose(matrix_inverse_using_scipy, matrix_inverse_using_eigen_decomposition)"
      ]
    },
    {
      "cell_type": "markdown",
      "metadata": {
        "id": "iNKis5Mjev7N"
      },
      "source": [
        "## SVD "
      ]
    },
    {
      "cell_type": "markdown",
      "metadata": {
        "id": "p-SQIpkUe53c"
      },
      "source": [
        "Get SVD via python functions and recontruct it to check it is close to the real one"
      ]
    },
    {
      "cell_type": "code",
      "execution_count": 72,
      "metadata": {
        "id": "2eMXOg71ex3Z",
        "colab": {
          "base_uri": "https://localhost:8080/"
        },
        "outputId": "34cf6f85-c9a7-47a6-bfac-78c348378777"
      },
      "outputs": [
        {
          "output_type": "execute_result",
          "data": {
            "text/plain": [
              "True"
            ]
          },
          "metadata": {},
          "execution_count": 72
        }
      ],
      "source": [
        "U, s, VT = np.linalg.svd(matrix1)\n",
        "np.allclose(matrix1, np.matmul(U, np.matmul(np.diag(s), VT)))"
      ]
    }
  ],
  "metadata": {
    "colab": {
      "collapsed_sections": [],
      "name": "HW5_StudentNo_StudentName.ipynb",
      "provenance": []
    },
    "kernelspec": {
      "display_name": "Python 3",
      "name": "python3"
    },
    "language_info": {
      "name": "python"
    }
  },
  "nbformat": 4,
  "nbformat_minor": 0
}