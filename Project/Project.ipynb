{
  "cells": [
    {
      "cell_type": "markdown",
      "metadata": {
        "id": "v2qUM9rYj2L5"
      },
      "source": [
        "<div style=\"direction:rtl;line-height:300%;\">\n",
        "<font face=\"XB Zar\" size=5>\n",
        "<div align=center>\n",
        "    <font size=6>\n",
        "    باسمه تعالی\n",
        "    </font>\n",
        "    <br><br>\n",
        "    <font>\n",
        "    درس جبر خطی\n",
        "    <br>\n",
        "        <font size=3>\n",
        "            مدرس: حمیدرضا ربیعی، مریم رمضانی\n",
        "        </font>\n",
        "    </font>\n",
        "    <br><br>\n",
        "    <font>\n",
        "        <b> PyTorch پروژه</b>\n",
        "    </font>\n",
        "    <br>\n",
        "    <font size=3>\n",
        "     موعد تحویل: ۱۵ بهمن ۱۴۰۰ ساعت ۲۳:۵۹\n",
        "    </font>\n",
        "    <br>\n",
        "    <font size=4>\n",
        "    دستیاران آموزشی:\n",
        "        پویا اسمعیلی،\n",
        "        علی بالاپور\n",
        "    </font>\n",
        "    <br>\n",
        "        <font size=2>\n",
        "        دانشگاه صنعتی شریف\n",
        "        <br>\n",
        "        دانشکده مهندسی کامپیوتر\n",
        "    </font>\n",
        "</div>\n",
        "</font>\n",
        "</div>"
      ]
    },
    {
      "cell_type": "markdown",
      "metadata": {
        "id": "Ie0Z27UOj2MH"
      },
      "source": [
        "<div align= \"justify\" dir=\"rtl\">\n",
        "<font face=\"Calibri\" size=4>\n",
        "    <h1>مقدمه</h1>\n",
        "    هدف این پروژه تعمیق مفاهیم تدریس شده در کلاس درس  و آشنایی دانشجویان با کاربردهای جبرخطی است. برای انجام این پروژه، نکات زیر را در نظر داشته باشید:\n",
        "    <ul>\n",
        "        <li>یکی از اهداف این پروژه آشنایی بیشتر دانشجویان با توابع و مفاهیم PyTorch است. بنابراین پیاده‌سازی خواسته‌های هر سوال حتما باید با استفاده از PyTorch باشد.</li>\n",
        "        <li>انجام این پروژه به صورت انفرادی است.</li>\n",
        "        <li>در مجموع این پروژه 100 نمره بوده که سوال اول 40 نمره و سوال دوم 60 نمره دارد. توجه داشته باشید پیاده‌سازی این پروژه اختیاری بوده و نمره اختصاص شده برابر 0.8 از نمره کل است.</li>\n",
        "        <li>توجه داشته باشید که نمی‌توانید از تاخیر مجاز برای این پروژه استفاده نمایید. (به علت اختیاری بودن پروژه و همچنین نزدیک بودن ددلاین به مهلت ارسال نمرات به آموزش)</li>\n",
        "        <li>پس از ددلاین مشخص شده برای پروژه، یک جلسه کوتاه برای تحویل حضوری پروژه برگزار می‌گردد.</li>\n",
        "        <li>برای راحتی کار، توصیه می‌شود که از google colab استفاده نمایید.</li>\n",
        "        <li>\n",
        "        برای این پروژه لازم است که علاوه بر پیاده‌سازی خواسته سوال، توضیح کوتاهی در مورد نحوه عملکرد کد پیاده‌سازی‌شده نوشته شود.\n",
        "        </li>\n",
        "    </ul>\n",
        "    </font>\n",
        "</div>"
      ]
    },
    {
      "cell_type": "markdown",
      "metadata": {
        "id": "gV_5Tc2fj2MJ"
      },
      "source": [
        "<div align= \"justify\" dir=\"rtl\">\n",
        "<font face=\"Calibri\" size=3>\n",
        "    <h1>الگوریتم PCA </h1>\n",
        "</font>\n",
        "</div>"
      ]
    },
    {
      "cell_type": "markdown",
      "metadata": {
        "id": "WT1F0AZSj2MK"
      },
      "source": [
        "<div align= \"justify\" dir=\"rtl\">\n",
        "<font face=\"Calibri\" size=4>\n",
        "    در این تمرین قصد داریم که با استفاده از فریمورک PyTorch و ابزارهای آن، الگوریتم \n",
        "    <a href='https://en.wikipedia.org/wiki/Principal_component_analysis'>PCA (Principal Component Analysis)</a> را روی دیتاست Iris پیاده‌سازی کنیم.  <br>\n",
        "دیتاستی که در این قسمت در نظر گرفته‌شده، دیتاست iris است. این دیتاست شامل داده‌های سه نوع گل زنبق بوده که بر اساس 4 ویژگی، دسته‌بندی شده‌اند (در جلسات اولیه درس در مورد این دیتاست صحبت کردیم). یکی از اقدامات ابتدایی در یک پروژه مربوط به یادگیری ماشین و علوم داده، \n",
        "    <a href=''https://en.wikipedia.org/wiki/Exploratory_data_analysis>EDA(Exploratory Data Analysis)</a>\n",
        "    است. در EDA قصد داریم تا با رسم نمودارهای مختلف و استفاده از ابزارهای موجود، یک دید کلی نسبت به داده بدست بیاوریم. اما برای رسم ساده‌ترین نمودارها (مانند نمودار scatter) برای داده‌هایی که دارای بیش از دو یا سه ویژگی دارند، ممکن است دشوار باشد. برای همین از الگوریتم‌های کاهش ابعاد استفاده می‌گردد. مشهورترین الگوریتم‌ها برای این کار، PCA و t-SNE می‌باشند. <br>\n",
        "در این تمرین شما باید دیتاست \n",
        "    <a href='https://archive.ics.uci.edu/ml/datasets/iris'>Iris</a>\n",
        "    (که در فایل iris.csv قرار دارد) را به یک تنسور دو بعدی تبدیل نمایید و الگوریتم PCA را با استفاده از توابع محاسباتی و مربوط به جبرخطی پایتورچ، بر روی این تنسور پیاده‌سازی کنید. سپس نتایج به‌دست آمده را با استفاده از کتابخانه‌های مصورسازی پایتون (مانند pyplot) بر روی یک scatter plot (با اعمال برچسب هر داده) رسم کنید. <br>\n",
        "توجه داشته باشید که استفاده از هرگونه کتابخانه برای پیاده‌سازی مستقیم الگوریتم PCA مجاز نیست. \n",
        "</font>\n",
        "</div>"
      ]
    },
    {
      "cell_type": "code",
      "execution_count": 83,
      "metadata": {
        "id": "LSUjvXTB5dtb"
      },
      "outputs": [],
      "source": [
        "#sara azarnoush\n",
        "#98170668"
      ]
    },
    {
      "cell_type": "code",
      "execution_count": 84,
      "metadata": {
        "id": "Kf0K30Slj2MM"
      },
      "outputs": [],
      "source": [
        "import pandas as pd\n",
        "import torch\n",
        "import matplotlib.pyplot as plt\n",
        "import seaborn as sns\n",
        "from sklearn.preprocessing import StandardScaler"
      ]
    },
    {
      "cell_type": "code",
      "execution_count": 85,
      "metadata": {
        "colab": {
          "base_uri": "https://localhost:8080/"
        },
        "id": "LClMdwEnhoYH",
        "outputId": "f264303f-ac2d-482b-e9cb-24d60ef3f68a"
      },
      "outputs": [
        {
          "name": "stdout",
          "output_type": "stream",
          "text": [
            "Drive already mounted at /content/drive; to attempt to forcibly remount, call drive.mount(\"/content/drive\", force_remount=True).\n",
            "/content/drive/My Drive/la prj\n"
          ]
        }
      ],
      "source": [
        "# from google.colab import drive\n",
        "# drive.mount('/content/drive')\n",
        "\n",
        "# address = \"la prj/\"\n",
        "# import sys\n",
        "# sys.path.append('/content/drive/My Drive/{}'.format(address))\n",
        "\n",
        "# %cd /content/drive/My\\ Drive/$address"
      ]
    },
    {
      "cell_type": "code",
      "execution_count": 86,
      "metadata": {
        "id": "CvA_C12U3hWW"
      },
      "outputs": [],
      "source": [
        "def get_device():\n",
        "    if torch.cuda.is_available():\n",
        "        device = 'cuda:0'\n",
        "    else:\n",
        "        device = 'cpu'\n",
        "    return device\n",
        "\n",
        "plt.rcParams[\"figure.figsize\"] = (12,8)"
      ]
    },
    {
      "cell_type": "code",
      "execution_count": 87,
      "metadata": {
        "id": "ZGM_4WwIgyt6"
      },
      "outputs": [],
      "source": [
        "iris = pd.read_csv(\"Iris.csv\")\n",
        "iris.columns=[\"id\",\"sepal_length\", \"sepal_width\", \"petal_length\", \"petal_width\", \"species\"]\n",
        "spec = iris['species']\n",
        "iris.drop(columns=['id','species'], inplace=True)\n",
        "iris.dropna(how='all', inplace=True)\n",
        "iris = torch.Tensor(iris.values).float().to(get_device())"
      ]
    },
    {
      "cell_type": "code",
      "execution_count": 88,
      "metadata": {
        "colab": {
          "base_uri": "https://localhost:8080/",
          "height": 501
        },
        "id": "6_MjwuOdp3JR",
        "outputId": "df5cf3c5-0262-480a-bae0-546f8261c871"
      },
      "outputs": [
        {
          "data": {
            "text/plain": [
              "<matplotlib.axes._subplots.AxesSubplot at 0x7fddc7c84390>"
            ]
          },
          "execution_count": 88,
          "metadata": {},
          "output_type": "execute_result"
        },
        {
          "data": {
            "image/png": "[encoded data removed]",
            "text/plain": [
              "<Figure size 864x576 with 1 Axes>"
            ]
          },
          "metadata": {
            "needs_background": "light"
          },
          "output_type": "display_data"
        }
      ],
      "source": [
        "sns.scatterplot(x=iris[:, 0], y=iris[:, 1], hue=spec, style=spec)"
      ]
    },
    {
      "cell_type": "code",
      "execution_count": 89,
      "metadata": {
        "id": "1CTZ9J_kmHw7"
      },
      "outputs": [],
      "source": [
        "# output[channel] = (input[channel] - mean[channel]) / std[channel]\n",
        "iris=StandardScaler().fit_transform(iris)\n",
        "iris = torch.Tensor(iris)"
      ]
    },
    {
      "cell_type": "code",
      "execution_count": 90,
      "metadata": {
        "id": "pOezS5trmieb"
      },
      "outputs": [],
      "source": [
        "cov_matrix = iris.t().cov()\n",
        "eigen_values, eigen_vectors = torch.eig(cov_matrix , eigenvectors=True)\n",
        "eigen_values = eigen_values[:, 0]\n",
        "variance= [(i/sum(eigen_values))*100 for i in eigen_values] \n",
        "variance = torch.Tensor(variance)\n",
        "cumulative_variance = torch.cumsum(variance, dim=0) "
      ]
    },
    {
      "cell_type": "code",
      "execution_count": 91,
      "metadata": {
        "colab": {
          "base_uri": "https://localhost:8080/",
          "height": 497
        },
        "id": "rvWiPSHroBLk",
        "outputId": "de8c4834-e93f-49ff-bc77-f547898d4385"
      },
      "outputs": [
        {
          "data": {
            "image/png": "[encoded data removed]",
            "text/plain": [
              "<Figure size 864x576 with 1 Axes>"
            ]
          },
          "metadata": {
            "needs_background": "light"
          },
          "output_type": "display_data"
        }
      ],
      "source": [
        "sns.lineplot(x=[1,2,3,4], y=cumulative_variance)\n",
        "plt.xlabel(\"Number\")\n",
        "plt.ylabel(\"Cumulative variance\")\n",
        "plt.show()\n"
      ]
    },
    {
      "cell_type": "code",
      "execution_count": 92,
      "metadata": {
        "colab": {
          "base_uri": "https://localhost:8080/",
          "height": 483
        },
        "id": "x7_7RZ0vopV7",
        "outputId": "2684aa02-47d8-4269-f390-887d4daa3ea2"
      },
      "outputs": [
        {
          "data": {
            "image/png": "[encoded data removed]",
            "text/plain": [
              "<Figure size 864x576 with 1 Axes>"
            ]
          },
          "metadata": {
            "needs_background": "light"
          },
          "output_type": "display_data"
        }
      ],
      "source": [
        "pca = torch.mm(iris, (eigen_vectors.T[:][:])[:2].T)\n",
        "for species in ('Iris-setosa', 'Iris-versicolor', 'Iris-virginica'):\n",
        "    sns.scatterplot(x=pca[spec==species, 0], y=pca[spec==species, 1])"
      ]
    },
    {
      "cell_type": "markdown",
      "metadata": {
        "id": "quSZ9Ea-j2MP"
      },
      "source": [
        "<div align= \"justify\" dir=\"rtl\">\n",
        "<font face=\"Calibri\" size=3>\n",
        "    <h1>سیستم توصیه‌گر (Recommender System)</h1>\n",
        "</font>\n",
        "</div>"
      ]
    },
    {
      "cell_type": "markdown",
      "metadata": {
        "id": "SltwmPLRj2MP"
      },
      "source": [
        "<div align= \"justify\" dir=\"rtl\">\n",
        "<font face=\"Calibri\" size=4>\n",
        "در این تمرین قصد داریم که با استفاده از فریمورک PyTorch و ابزارهای آن، یک سیستم توصیه‌گر (یا recommender system) ساده را پیاده‌سازی کنیم.\n",
        "<br> \n",
        "برای پیاده‌سازی این سیستم، شما یک جدول از امتیاز کاربران (از ۱ تا ۵) به فیلم‌ها دارید (در فایل ratings.csv). ستون‌های این جدول، شناسه‌ی کاربر، شناسه‌ی فیلم و امتیاز هستند. برای استفاده از این داده‌ها باید آن‌ها را تبدیل به ماتریسی از امتیاز هر کاربر به هر فیلم کنید. البته باید توجه کنید بیشتر درایه‌های این ماتریس نامشخص (امتیاز صفر) بوده و لازم است به جای ‌ان‌ها یک عدد قرار دهید. در ادامه روش‌های مختلف پر کردن این درایه‌ها توضیح داده می‌شود.\n",
        "<br>\n",
        "برای بررسی عملکرد سیستم، \n",
        "<!-- لازم است ابتدا تعدادی از داده‌های اولیه جدا شوند. بنابراین ۱۰ درصد از سطرهای جدول اولیه را به طور رندوم جدا کرده و از جدول حذف کنید. حال -->\n",
        " سیستم توصیه‌گر شما با یادگیری داده‌ها، امتیازی از طرف هر کاربر به هر فیلم نسبت می‌دهد. اگر این امتیازها را $y$ نامیده و امتیاز‌های حذف شده از جدول اولیه $\\hat{y}$ باشند، خطای سیستم به صورت\n",
        "$$E = \\Sigma_i (y - \\hat{y})^2$$\n",
        "تعریف می‌شود. برای هر یک از راه‌حل‌های خود، این خطا را برای خانه‌هایی که در دیتاست اولیه مقادیر بین ۱ تا ۵ دارند، حساب کنید.\n",
        "<br>\n",
        "در طراحی سیستم می‌توانید از تجزیه‌ی SVD استفاده کنید. برای این کار باید ابتدا درایه‌های نامشخص را پر کنید. برای این کار، روش‌های زیر را امتحان کرده و خطای سیستم در هر حالت را مقایسه کنید. سپس، از بهترین روش در سیستم نهایی خود استفاده کنید.\n",
        "<ol>\n",
        "<li>قرار دادن صفر به جای همه‌ی مقادیر نامشخص</li>\n",
        "<li>قرار دادن میانگین امتیاز هر فیلم در درایه‌های نامشخص آن فیلم</li>\n",
        "<li>استفاده از میانه‌ی امتیازهای هر فیلم در درایه‌های نامشخص آن فیلم</li>\n",
        "</ol>\n",
        "<br> \n",
        "برای این تمرین لازم است که شما با استفاده از مفاهیم تدریس شده در کلاس درس و ابزارهای پایتورچ، این سیستم توصیه گر ساده را پیاده‌سازی کنید و خطای آن را محاسبه کنید. استفاده از ابزارهای pandas و matplotlib در کنار pytorch مجاز بوده و هر گونه استفاده از numpy غیر مجاز است.\n",
        "\n",
        "</font>\n",
        "</div>"
      ]
    },
    {
      "cell_type": "code",
      "execution_count": 93,
      "metadata": {
        "id": "oKAbXl9KLRKT"
      },
      "outputs": [],
      "source": [
        "import torch\n",
        "import pandas as pd\n",
        "import matplotlib.pyplot as plt\n",
        "import scipy"
      ]
    },
    {
      "cell_type": "code",
      "execution_count": 94,
      "metadata": {
        "id": "nLlN1irsIYDA"
      },
      "outputs": [],
      "source": [
        "def get_device():\n",
        "    if torch.cuda.is_available():\n",
        "        device = 'cuda:0'\n",
        "    else:\n",
        "        device = 'cpu'\n",
        "    return device\n",
        "\n",
        "plt.rcParams[\"figure.figsize\"] = (12,8)"
      ]
    },
    {
      "cell_type": "code",
      "execution_count": 95,
      "metadata": {
        "id": "uPfJfQtAj2MU"
      },
      "outputs": [],
      "source": [
        "ratings = pd.read_csv(\"ratings.csv\")\n",
        "ratings.columns=['number','userid', 'movieid', 'rating', 'timestamp']\n",
        "movies = ratings['movieid'].unique()\n",
        "users = ratings['userid'].unique()\n",
        "rating = ratings['rating'].unique()\n",
        "ratings.drop(columns=['number','timestamp'], inplace=True)\n",
        "ratings.dropna(how='all', inplace=True)\n",
        "user_movies = ratings.pivot_table(index = 'userid', columns= 'movieid', values = 'rating')\n"
      ]
    },
    {
      "cell_type": "code",
      "execution_count": 96,
      "metadata": {
        "id": "p1zxjkxVJzvL"
      },
      "outputs": [],
      "source": [
        "\n",
        "def cal(data, method):\n",
        "  svd_movies = method(data)\n",
        "  user_means = torch.tensor(svd_movies.mean(axis = 1).values.astype(float)).float().to(get_device()).reshape(-1, 1)\n",
        "  svd_movies = svd_movies.div(svd_movies.mean(axis = 1), axis = 0)\n",
        "  svd_movies_matrix = torch.tensor(svd_movies.values.astype(float)).float().to(get_device())\n",
        "  U, sigma, Vt = scipy.sparse.linalg.svds(svd_movies_matrix, k = 10)\n",
        "  sigma = torch.tensor(sigma.astype(float)).float().to(get_device())\n",
        "  U = torch.tensor(U.astype(float)).float().to(get_device())\n",
        "  Vt = torch.tensor(Vt.astype(float)).float().to(get_device())\n",
        "  sigma = torch.diag(sigma)\n",
        "  predicted = torch.mm(torch.mm(U, sigma), Vt)\n",
        "  predicted_ratings = predicted * user_means\n",
        "  predicted_df = pd.DataFrame(predicted_ratings, columns= user_movies.columns)\n",
        "  predicted_df.index = predicted_df.index + 1\n",
        "  error = 0 \n",
        "  table =   torch.tensor(user_movies.values.astype(float)).float().to(get_device())\n",
        "  for i in range(len(users)):\n",
        "    for j in range(len(movies)):\n",
        "      if(table[i,j] == table[i,j]):\n",
        "        prediction = predicted_ratings[i,j]\n",
        "        error += (prediction - table[i,j])**2\n",
        "  return predicted_df , error"
      ]
    },
    {
      "cell_type": "code",
      "execution_count": 97,
      "metadata": {
        "collapsed": true,
        "id": "KXzsq57ML-rD"
      },
      "outputs": [],
      "source": [
        "def svd_recommender(df_predict, user, umr, number_recomm):\n",
        "    unrated = list(user_movies.loc[1, pd.isnull(user_movies.loc[user, :])].index)\n",
        "    recommendations = df_predict.loc[user][unrated] \n",
        "    recommendations = pd.DataFrame(recommendations.sort_values(ascending = False).index[:number_recomm])\n",
        "    return recommendations"
      ]
    },
    {
      "cell_type": "code",
      "execution_count": 98,
      "metadata": {
        "id": "QYfRadwS05_l"
      },
      "outputs": [],
      "source": [
        "def zeroc(dataframe):\n",
        "    return dataframe.fillna(0)\n",
        "\n",
        "def meanc(dataframe):\n",
        "    return dataframe.fillna(dataframe.mean().fillna(0))\n",
        "\n",
        "def medianc(dataframe):\n",
        "    return dataframe.fillna(dataframe.median().fillna(0))"
      ]
    },
    {
      "cell_type": "code",
      "execution_count": 99,
      "metadata": {
        "colab": {
          "base_uri": "https://localhost:8080/",
          "height": 1000
        },
        "id": "jsuJpVoz3P2S",
        "outputId": "953f8d76-ad53-4406-caca-97533c2fe4ab"
      },
      "outputs": [
        {
          "name": "stdout",
          "output_type": "stream",
          "text": [
            "   movieid\n",
            "0      318\n",
            "1       64\n",
            "2       28\n",
            "3       12\n",
            "4      655\n",
            "5        8\n",
            "6       11\n",
            "7       70\n",
            "8      651\n",
            "9       83\n",
            "   movieid\n",
            "0     1653\n",
            "1     1467\n",
            "2     1500\n",
            "3     1599\n",
            "4     1293\n",
            "5     1122\n",
            "6     1189\n",
            "7      814\n",
            "8     1201\n",
            "9     1536\n",
            "   movieid\n",
            "0     1367\n",
            "1     1191\n",
            "2     1293\n",
            "3     1201\n",
            "4     1536\n",
            "5     1653\n",
            "6     1500\n",
            "7     1122\n",
            "8     1599\n",
            "9     1189\n"
          ]
        },
        {
          "data": {
            "image/png": "[encoded data removed]",
            "text/plain": [
              "<Figure size 864x576 with 1 Axes>"
            ]
          },
          "metadata": {
            "needs_background": "light"
          },
          "output_type": "display_data"
        }
      ],
      "source": [
        "methods = [zeroc, meanc, medianc]\n",
        "best_matrix = None\n",
        "best_method = [zeroc]\n",
        "best_error = float('inf')\n",
        "errors = []\n",
        "for method in methods:\n",
        "    predicted_df , error = cal(user_movies, method)\n",
        "    svd_movies = method(user_movies)\n",
        "    errors.append(error)\n",
        "    if error < best_error:\n",
        "        best_matrix = predicted_df\n",
        "        best_method = method\n",
        "        best_error = error\n",
        "    recommend_650 = svd_recommender(predicted_df, 650, svd_movies, 10)\n",
        "    print(recommend_650)\n",
        "plt.bar(range(len(errors)), errors)\n",
        "plt.xticks(range(len(errors)), map(lambda x: x.__name__, methods))\n",
        "plt.show()\n"
      ]
    }
  ],
  "metadata": {
    "colab": {
      "collapsed_sections": [],
      "name": "PyTorch Project.ipynb",
      "provenance": []
    },
    "kernelspec": {
      "display_name": "Python 3",
      "language": "python",
      "name": "python3"
    },
    "language_info": {
      "codemirror_mode": {
        "name": "ipython",
        "version": 3
      },
      "file_extension": ".py",
      "mimetype": "text/x-python",
      "name": "python",
      "nbconvert_exporter": "python",
      "pygments_lexer": "ipython3",
      "version": "3.10.0"
    }
  },
  "nbformat": 4,
  "nbformat_minor": 0
}
